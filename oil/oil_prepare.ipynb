{
 "cells": [
  {
   "cell_type": "code",
   "execution_count": 1,
   "metadata": {},
   "outputs": [
    {
     "name": "stderr",
     "output_type": "stream",
     "text": [
      "C:\\Users\\82108\\AppData\\Local\\Temp\\ipykernel_1520\\3234662979.py:18: DeprecationWarning: `set_matplotlib_formats` is deprecated since IPython 7.23, directly use `matplotlib_inline.backend_inline.set_matplotlib_formats()`\n",
      "  set_matplotlib_formats(\"retina\")\n"
     ]
    }
   ],
   "source": [
    "import pandas as pd\n",
    "import os\n",
    "import numpy as np\n",
    "from tqdm import tqdm\n",
    "import matplotlib.pyplot as plt\n",
    "import matplotlib as mpl\n",
    "from matplotlib import font_manager, rc\n",
    "import FinanceDataReader as fdr\n",
    "import seaborn as sns\n",
    "import time\n",
    "from dateutil.parser import parse\n",
    "from datetime import datetime, date\n",
    "start_time = time.time()\n",
    "import qconfig\n",
    "import requests\n",
    "from pandas import DataFrame\n",
    "from IPython.display import set_matplotlib_formats\n",
    "set_matplotlib_formats(\"retina\")"
   ]
  },
  {
   "cell_type": "code",
   "execution_count": 2,
   "metadata": {},
   "outputs": [],
   "source": [
    "font_path = \"C:/Windows/Fonts/NGULIM.TTF\"\n",
    "font = font_manager.FontProperties(fname=font_path).get_name()\n",
    "rc('font', family=font)"
   ]
  },
  {
   "cell_type": "code",
   "execution_count": null,
   "metadata": {},
   "outputs": [],
   "source": [
    "def acf_plot(data, N_LAGS, alpha):\n",
    "    from statsmodels.graphics.tsaplots import plot_acf\n",
    "    fig = plot_acf(data, lags=N_LAGS, alpha=alpha)\n",
    "    plt.xlabel(f'Lag at 0 to {N_LAGS}')\n",
    "    plt.ylabel(\"Lag at k's autocorrelation\")\n",
    "    plt.show()"
   ]
  },
  {
   "cell_type": "code",
   "execution_count": null,
   "metadata": {},
   "outputs": [],
   "source": [
    "def to_datetime_format(df:pd.DataFrame, col_nm:str='index', as_index=False) -> pd.DataFrame:\n",
    "    df[col_nm] = pd.to_datetime(df[col_nm], infer_datetime_format=True) #format = \"%Y-%m-%d\"\n",
    "    df = df.sort_values(by=col_nm, ascending=True)\n",
    "    if as_index:\n",
    "        df.set_index(col_nm, inplace=True)\n",
    "    \n",
    "    return df"
   ]
  },
  {
   "cell_type": "markdown",
   "metadata": {},
   "source": [
    "#### Load the Data(oil)"
   ]
  },
  {
   "cell_type": "code",
   "execution_count": 3,
   "metadata": {},
   "outputs": [
    {
     "name": "stdout",
     "output_type": "stream",
     "text": [
      "['01.csv', '02.csv', '03.csv', '04.csv', '05.csv', '06.csv', '07.csv', '08.csv', '09.csv', '10.csv', '11.csv', '12.csv', '13.csv', '14.csv', '15.csv', '16.csv', '17.csv', '18.csv', '19.csv', '20.csv', '21.csv']\n"
     ]
    }
   ],
   "source": [
    "csv_list = list(filter(lambda x : x.split('.')[-1] == 'csv', os.listdir()))\n",
    "print(csv_list)"
   ]
  },
  {
   "cell_type": "code",
   "execution_count": null,
   "metadata": {},
   "outputs": [],
   "source": []
  }
 ],
 "metadata": {
  "kernelspec": {
   "display_name": "Python 3.11.0 64-bit",
   "language": "python",
   "name": "python3"
  },
  "language_info": {
   "codemirror_mode": {
    "name": "ipython",
    "version": 3
   },
   "file_extension": ".py",
   "mimetype": "text/x-python",
   "name": "python",
   "nbconvert_exporter": "python",
   "pygments_lexer": "ipython3",
   "version": "3.11.0"
  },
  "orig_nbformat": 4,
  "vscode": {
   "interpreter": {
    "hash": "d14d565b564411342cdbc38df74d8748e60500775f95cca800e69687c707e0ea"
   }
  }
 },
 "nbformat": 4,
 "nbformat_minor": 2
}
